{
 "nbformat": 4,
 "nbformat_minor": 2,
 "metadata": {
  "language_info": {
   "name": "python",
   "codemirror_mode": {
    "name": "ipython",
    "version": 3
   },
   "version": "3.7.4-final"
  },
  "orig_nbformat": 2,
  "file_extension": ".py",
  "mimetype": "text/x-python",
  "name": "python",
  "npconvert_exporter": "python",
  "pygments_lexer": "ipython3",
  "version": 3,
  "kernelspec": {
   "name": "python37464bit599f17b477a64e6a92f9d00c0f767d0b",
   "display_name": "Python 3.7.4 64-bit"
  }
 },
 "cells": [
  {
   "cell_type": "markdown",
   "execution_count": null,
   "metadata": {},
   "outputs": [],
   "source": [
    "## Yield method"
   ]
  },
  {
   "cell_type": "code",
   "execution_count": 7,
   "metadata": {},
   "outputs": [],
   "source": [
    "def yld_t():\n",
    "    n = 0\n",
    "    while n<100:\n",
    "        yield n\n",
    "        print(n+100)\n",
    "        n = n+1\n",
    "yld = yld_t()\n"
   ]
  },
  {
   "cell_type": "code",
   "execution_count": 12,
   "metadata": {},
   "outputs": [
    {
     "name": "stdout",
     "output_type": "stream",
     "text": "before\nmiddle\nafter\n"
    },
    {
     "data": {
      "text/plain": "[1, None]"
     },
     "execution_count": 12,
     "metadata": {},
     "output_type": "execute_result"
    }
   ],
   "source": [
    "def generator():\n",
    "    print('before')\n",
    "    yield 1           # break 1\n",
    "    yield           # break 2\n",
    "    print('middle')\n",
    "    print('after')\n",
    "x = generator()\n",
    "list(x)\n",
    "# next(x)\n",
    "# #=> before\n",
    "# next(x)\n",
    "# #=> middle\n",
    "# next(x)\n",
    "#=> after\n",
    "#=> exception StopIteration\n"
   ]
  }
 ]
}